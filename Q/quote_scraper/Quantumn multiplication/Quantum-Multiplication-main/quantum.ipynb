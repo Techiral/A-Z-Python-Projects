{
 "cells": [
  {
   "cell_type": "code",
   "execution_count": 1,
   "id": "a9cc69b8-9bbd-4929-810b-3adba482864b",
   "metadata": {},
   "outputs": [
    {
     "name": "stdin",
     "output_type": "stream",
     "text": [
      "Enter the multiplicand. 11\n",
      "Enter the multiplier. 10\n"
     ]
    },
    {
     "name": "stderr",
     "output_type": "stream",
     "text": [
      "<frozen importlib._bootstrap>:219: RuntimeWarning: scipy._lib.messagestream.MessageStream size changed, may indicate binary incompatibility. Expected 56 from C header, got 64 from PyObject\n"
     ]
    },
    {
     "name": "stdout",
     "output_type": "stream",
     "text": [
      "{'0110': 2}\n"
     ]
    }
   ],
   "source": [
    "# -*- coding: utf-8 -*-\n",
    "\n",
    "\"\"\"\n",
    "multiply.py: Multiply two numbers using repeated fourier \n",
    "               transform based addition.\n",
    "\"\"\"\n",
    "\n",
    "from qiskit import QuantumRegister, QuantumCircuit, ClassicalRegister\n",
    "from qiskit import Aer, execute\n",
    "from math import pi\n",
    "\n",
    "def createInputState(qc, reg, n, pie):\n",
    "    \"\"\"\n",
    "    Computes the quantum Fourier transform of reg, one qubit at\n",
    "    a time.\n",
    "    Apply one Hadamard gate to the nth qubit of the quantum register reg, and \n",
    "    then apply repeated phase rotations with parameters being pi divided by \n",
    "    increasing powers of two.\n",
    "    \"\"\"\n",
    "    qc.h(reg[n])\n",
    "    for i in range(0, n):\n",
    "        qc.cp(pie / float(2**(i + 1)), reg[n - (i + 1)], reg[n])\n",
    "\n",
    "\n",
    "def evolveQFTState(qc, reg_a, reg_b, n, pie, factor):\n",
    "    \"\"\"  \n",
    "    Evolves the state |F(ψ(reg_a))> to |F(ψ(reg_a+reg_b))> using the quantum \n",
    "    Fourier transform conditioned on the qubits of the reg_b.\n",
    "    Apply repeated phase rotations with parameters being pi divided by \n",
    "    increasing powers of two.\n",
    "    \"\"\"\n",
    "    l = len(reg_b)\n",
    "    for i in range(0, n + 1):\n",
    "        if (n - i) > l - 1:\n",
    "            pass\n",
    "        else:\n",
    "            qc.cp(factor*pie / float(2**(i)), reg_b[n - i], reg_a[n])\n",
    "\n",
    "\n",
    "def inverseQFT(qc, reg, n, pie):\n",
    "    \"\"\"\n",
    "    Performs the inverse quantum Fourier transform on a register reg.\n",
    "    Apply repeated phase rotations with parameters being pi divided by \n",
    "    decreasing powers of two, and then apply a Hadamard gate to the nth qubit\n",
    "    of the register reg.\n",
    "    \"\"\"\n",
    "    for i in range(0, n):\n",
    "        qc.cp(-1 * pie / float(2**(n - i)), reg[i], reg[n])\n",
    "    qc.h(reg[n])\n",
    "\n",
    "\n",
    "def add(reg_a, reg_b, circ, factor):\n",
    "    \"\"\"\n",
    "    Add two quantum registers reg_a and reg_b, and store the result in \n",
    "    reg_a.\n",
    "    \"\"\"\n",
    "    pie = pi\n",
    "    n = len(reg_a) - 1\n",
    "\n",
    "    # Compute the Fourier transform of register a\n",
    "    for i in range(0, n + 1):\n",
    "        createInputState(circ, reg_a, n - i, pie)\n",
    "    # Add the two numbers by evolving the Fourier transform F(ψ(reg_a))>\n",
    "    # to |F(ψ(reg_a+reg_b))>\n",
    "    for i in range(0, n + 1):\n",
    "        evolveQFTState(circ, reg_a, reg_b, n - i, pie, factor)\n",
    "    # Compute the inverse Fourier transform of register a\n",
    "    for i in range(0, n + 1):\n",
    "        inverseQFT(circ, reg_a, i, pie)\n",
    "\n",
    "\n",
    "# Take two numbers as user input in binary form\n",
    "multiplicand_in = input(\"Enter the multiplicand.\")\n",
    "l1 = len(multiplicand_in)\n",
    "multiplier_in = input(\"Enter the multiplier.\")\n",
    "l2 = len(multiplier_in)\n",
    "# Make sure multiplicand_in holds the larger number\n",
    "if l2 > l1:\n",
    "    multiplier_in, multiplicand_in = multiplicand_in, multiplier_in\n",
    "    l2, l1 = l1, l2\n",
    "\n",
    "multiplicand = QuantumRegister(l1)\n",
    "multiplier = QuantumRegister(l2)\n",
    "accumulator = QuantumRegister(l1 + l2)\n",
    "cl = ClassicalRegister(l1 + l2)\n",
    "d = QuantumRegister(1)\n",
    "\n",
    "circ = QuantumCircuit(accumulator, multiplier, multiplicand,\n",
    "    d, cl, name=\"qc\")\n",
    "\n",
    "circ.x(d)\n",
    "# Store bit strings in quantum registers\n",
    "for i in range(l1):\n",
    "    if multiplicand_in[i] == '1':\n",
    "        circ.x(multiplicand[l1 - i - 1])\n",
    "\n",
    "for i in range(l2):\n",
    "    if multiplier_in[i] == '1':\n",
    "        circ.x(multiplier[l1 - i - 1])\n",
    "\n",
    "multiplier_str = '1'\n",
    "# Perform repeated addition until the multiplier\n",
    "# is zero\n",
    "while(int(multiplier_str) != 0):\n",
    "    add(accumulator, multiplicand, circ, 1)\n",
    "    add(multiplier, d, circ, -1)\n",
    "    for i in range(len(multiplier)):\n",
    "        circ.measure(multiplier[i], cl[i])\n",
    "    result = execute(circ, backend=Aer.get_backend('qasm_simulator'),\n",
    "                    shots=2).result().get_counts(circ.name)\n",
    "    multiplier_str = list(result.keys())[0]\n",
    "\n",
    "circ.measure(accumulator, cl)\n",
    "result = execute(circ, backend=Aer.get_backend('qasm_simulator'),\n",
    "            shots=2).result().get_counts(circ.name)\n",
    "\n",
    "print(result)"
   ]
  },
  {
   "cell_type": "code",
   "execution_count": null,
   "id": "4af5f29c-4e1d-4e6c-8252-e7cc5a02134c",
   "metadata": {},
   "outputs": [],
   "source": []
  }
 ],
 "metadata": {
  "kernelspec": {
   "display_name": "Python 3 (ipykernel)",
   "language": "python",
   "name": "python3"
  },
  "language_info": {
   "codemirror_mode": {
    "name": "ipython",
    "version": 3
   },
   "file_extension": ".py",
   "mimetype": "text/x-python",
   "name": "python",
   "nbconvert_exporter": "python",
   "pygments_lexer": "ipython3",
   "version": "3.8.13"
  },
  "widgets": {
   "application/vnd.jupyter.widget-state+json": {
    "state": {},
    "version_major": 2,
    "version_minor": 0
   }
  }
 },
 "nbformat": 4,
 "nbformat_minor": 5
}
