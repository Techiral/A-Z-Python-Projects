{
  "cells": [
    {
      "cell_type": "code",
      "execution_count": null,
      "metadata": {
        "id": "o7H1OrBb2L6P"
      },
      "outputs": [],
      "source": [
        "import torch\n",
        "import torchvision\n",
        "import torchvision.transforms as transforms\n",
        "import matplotlib.pyplot as plt\n",
        "import numpy as np"
      ]
    },
    {
      "cell_type": "code",
      "execution_count": null,
      "metadata": {
        "colab": {
          "base_uri": "https://localhost:8080/"
        },
        "id": "2nq95nVQE_00",
        "outputId": "6257f18c-6cd7-45c6-8b11-e74d7f489e1d"
      },
      "outputs": [
        {
          "output_type": "execute_result",
          "data": {
            "text/plain": [
              "device(type='cuda', index=0)"
            ]
          },
          "metadata": {},
          "execution_count": 2
        }
      ],
      "source": [
        "# defining our device, 'cuda:0' if CUDA is available, 'cpu' otherwise\n",
        "device = torch.device('cuda:0' if torch.cuda.is_available() else 'cpu')\n",
        "device"
      ]
    },
    {
      "cell_type": "code",
      "execution_count": null,
      "metadata": {
        "id": "4RlJUUwp2NnJ"
      },
      "outputs": [],
      "source": [
        "# make the transform pipeline, converting to tensor and normalizing\n",
        "transform = transforms.Compose([\n",
        "  transforms.ToTensor(),\n",
        "  transforms.Normalize((0.5, 0.5, 0.5), (0.5, 0.5, 0.5))\n",
        "])\n",
        "# the batch size during training\n",
        "batch_size = 64"
      ]
    },
    {
      "cell_type": "code",
      "execution_count": null,
      "metadata": {
        "colab": {
          "base_uri": "https://localhost:8080/",
          "height": 86,
          "referenced_widgets": [
            "b4a6874638e2443f8c43e0db744fa327",
            "befda00472714307afad3307ced59f39",
            "073e2b2d0c164e5ba3ab91c64618e27c",
            "367a2d97f6014f67b2557e5e26a76e2b",
            "faa9f040562349cea6bf0b619249d5b4",
            "506e3b6439b6476499deaf812300bf48",
            "fee449ec39d24cbdbd6912bbdd95649f",
            "ccda80a9207f470bb93b1ce9c7fb67d4",
            "ad67632afdf947c8b7136799037a63df",
            "50a6c0a6110e470291a56b008d7657b3",
            "2ec3f8f6c8ae408ea62db2cc9368483a"
          ]
        },
        "id": "7G1YZeI22dlK",
        "outputId": "1baea523-3955-445e-de6a-8a3e7ec1ebe2"
      },
      "outputs": [
        {
          "output_type": "stream",
          "name": "stdout",
          "text": [
            "Downloading https://www.cs.toronto.edu/~kriz/cifar-10-python.tar.gz to ./data/cifar-10-python.tar.gz\n"
          ]
        },
        {
          "output_type": "display_data",
          "data": {
            "text/plain": [
              "  0%|          | 0/170498071 [00:00<?, ?it/s]"
            ],
            "application/vnd.jupyter.widget-view+json": {
              "version_major": 2,
              "version_minor": 0,
              "model_id": "b4a6874638e2443f8c43e0db744fa327"
            }
          },
          "metadata": {}
        },
        {
          "output_type": "stream",
          "name": "stdout",
          "text": [
            "Extracting ./data/cifar-10-python.tar.gz to ./data\n"
          ]
        }
      ],
      "source": [
        "train_dataset = torchvision.datasets.CIFAR10(root=\"./data\", train=True, \n",
        "                                             download=True, transform=transform)\n",
        "train_loader = torch.utils.data.DataLoader(train_dataset, batch_size=batch_size,\n",
        "                                           shuffle=True, num_workers=2)"
      ]
    },
    {
      "cell_type": "code",
      "execution_count": null,
      "metadata": {
        "colab": {
          "base_uri": "https://localhost:8080/"
        },
        "id": "mcYaFCZo2roH",
        "outputId": "600e0580-e710-4d13-e569-1f04fa158868"
      },
      "outputs": [
        {
          "output_type": "stream",
          "name": "stdout",
          "text": [
            "Files already downloaded and verified\n"
          ]
        }
      ],
      "source": [
        "test_dataset = torchvision.datasets.CIFAR10(root=\"./data\", train=False, \n",
        "                                             download=True, transform=transform)\n",
        "test_loader = torch.utils.data.DataLoader(test_dataset, batch_size=batch_size,\n",
        "                                           shuffle=False, num_workers=2)"
      ]
    },
    {
      "cell_type": "code",
      "execution_count": null,
      "metadata": {
        "id": "mNpivOW92yvE"
      },
      "outputs": [],
      "source": [
        "# the MNIST classes\n",
        "classes = ('plane', 'car', 'bird', 'cat',\n",
        "           'deer', 'dog', 'frog', 'horse', 'ship', 'truck')"
      ]
    },
    {
      "cell_type": "code",
      "execution_count": null,
      "metadata": {
        "id": "dkVdA46x3Gle",
        "colab": {
          "base_uri": "https://localhost:8080/"
        },
        "outputId": "951fbd28-7c82-484b-934b-30a73ad3e085"
      },
      "outputs": [
        {
          "output_type": "execute_result",
          "data": {
            "text/plain": [
              "Net(\n",
              "  (conv1): Conv2d(3, 6, kernel_size=(5, 5), stride=(1, 1))\n",
              "  (pool): MaxPool2d(kernel_size=2, stride=2, padding=0, dilation=1, ceil_mode=False)\n",
              "  (conv2): Conv2d(6, 16, kernel_size=(5, 5), stride=(1, 1))\n",
              "  (fc1): Linear(in_features=400, out_features=120, bias=True)\n",
              "  (fc2): Linear(in_features=120, out_features=84, bias=True)\n",
              "  (fc3): Linear(in_features=84, out_features=10, bias=True)\n",
              ")"
            ]
          },
          "metadata": {},
          "execution_count": 7
        }
      ],
      "source": [
        "import torch.nn as nn\n",
        "import torch.nn.functional as F\n",
        "\n",
        "\n",
        "class Net(nn.Module):\n",
        "    def __init__(self):\n",
        "        super().__init__()\n",
        "        self.conv1 = nn.Conv2d(3, 6, 5)\n",
        "        self.pool = nn.MaxPool2d(2, 2)\n",
        "        self.conv2 = nn.Conv2d(6, 16, 5)\n",
        "        self.fc1 = nn.Linear(16 * 5 * 5, 120)\n",
        "        self.fc2 = nn.Linear(120, 84)\n",
        "        self.fc3 = nn.Linear(84, 10)\n",
        "\n",
        "    def forward(self, x):\n",
        "        x = self.pool(F.relu(self.conv1(x)))\n",
        "        x = self.pool(F.relu(self.conv2(x)))\n",
        "        x = torch.flatten(x, 1) # flatten all dimensions except batch\n",
        "        x = F.relu(self.fc1(x))\n",
        "        x = F.relu(self.fc2(x))\n",
        "        x = self.fc3(x)\n",
        "        return x\n",
        "\n",
        "\n",
        "net = Net()\n",
        "# switch to GPU if available\n",
        "net.to(device)"
      ]
    },
    {
      "cell_type": "code",
      "execution_count": null,
      "metadata": {
        "id": "T1-6Azns3OJJ"
      },
      "outputs": [],
      "source": [
        "import torch.optim as optim\n",
        "\n",
        "# defining the loss and the optimizer\n",
        "criterion = nn.CrossEntropyLoss()\n",
        "optimizer = optim.SGD(net.parameters(), lr=0.001, momentum=0.9)"
      ]
    },
    {
      "cell_type": "code",
      "execution_count": null,
      "metadata": {
        "id": "npP_BSX-C8w7"
      },
      "outputs": [],
      "source": [
        "def get_test_loss(net, criterion, data_loader):\n",
        "  \"\"\"A simple function that iterates over `data_loader` to calculate the overall loss\"\"\"\n",
        "  testing_loss = []\n",
        "  with torch.no_grad():\n",
        "    for data in data_loader:\n",
        "      inputs, labels = data\n",
        "      # get the data to GPU (if available)\n",
        "      inputs, labels = inputs.to(device), labels.to(device)\n",
        "      outputs = net(inputs)\n",
        "      # calculate the loss for this batch\n",
        "      loss = criterion(outputs, labels)\n",
        "      # add the loss of this batch to the list\n",
        "      testing_loss.append(loss.item())\n",
        "  # calculate the average loss\n",
        "  return sum(testing_loss) / len(testing_loss)"
      ]
    },
    {
      "cell_type": "code",
      "execution_count": null,
      "metadata": {
        "colab": {
          "base_uri": "https://localhost:8080/"
        },
        "id": "MFohsd433Qfh",
        "outputId": "3a53b354-5f73-4cd1-fb44-2a04a6c96da3"
      },
      "outputs": [
        {
          "output_type": "stream",
          "name": "stdout",
          "text": [
            "[ 1] [it= 1000] Train Loss: 2.298, Test Loss: 2.280\n",
            "[ 2] [it= 2000] Train Loss: 2.087, Test Loss: 1.907\n",
            "[ 3] [it= 3000] Train Loss: 1.785, Test Loss: 1.685\n",
            "[ 5] [it= 4000] Train Loss: 1.631, Test Loss: 1.574\n",
            "[ 6] [it= 5000] Train Loss: 1.529, Test Loss: 1.484\n",
            "[ 7] [it= 6000] Train Loss: 1.449, Test Loss: 1.421\n",
            "[ 8] [it= 7000] Train Loss: 1.392, Test Loss: 1.373\n",
            "[10] [it= 8000] Train Loss: 1.329, Test Loss: 1.316\n",
            "[11] [it= 9000] Train Loss: 1.276, Test Loss: 1.279\n",
            "[12] [it=10000] Train Loss: 1.236, Test Loss: 1.232\n",
            "[14] [it=11000] Train Loss: 1.188, Test Loss: 1.194\n",
            "[15] [it=12000] Train Loss: 1.139, Test Loss: 1.202\n",
            "[16] [it=13000] Train Loss: 1.111, Test Loss: 1.157\n",
            "[17] [it=14000] Train Loss: 1.081, Test Loss: 1.151\n",
            "[19] [it=15000] Train Loss: 1.049, Test Loss: 1.112\n",
            "[20] [it=16000] Train Loss: 1.019, Test Loss: 1.116\n",
            "[21] [it=17000] Train Loss: 1.003, Test Loss: 1.115\n",
            "[23] [it=18000] Train Loss: 0.974, Test Loss: 1.048\n",
            "[24] [it=19000] Train Loss: 0.949, Test Loss: 1.037\n",
            "[25] [it=20000] Train Loss: 0.928, Test Loss: 1.037\n",
            "[26] [it=21000] Train Loss: 0.915, Test Loss: 1.042\n",
            "[28] [it=22000] Train Loss: 0.894, Test Loss: 1.052\n",
            "[29] [it=23000] Train Loss: 0.871, Test Loss: 1.023\n",
            "[30] [it=24000] Train Loss: 0.857, Test Loss: 1.029\n",
            "[31] [it=25000] Train Loss: 0.843, Test Loss: 1.011\n",
            "[33] [it=26000] Train Loss: 0.819, Test Loss: 1.025\n",
            "[34] [it=27000] Train Loss: 0.803, Test Loss: 1.010\n",
            "[35] [it=28000] Train Loss: 0.792, Test Loss: 1.005\n",
            "[37] [it=29000] Train Loss: 0.780, Test Loss: 0.993\n",
            "[38] [it=30000] Train Loss: 0.755, Test Loss: 1.000\n",
            "[39] [it=31000] Train Loss: 0.747, Test Loss: 1.021\n",
            "[40] [it=32000] Train Loss: 0.734, Test Loss: 1.002\n",
            "[42] [it=33000] Train Loss: 0.714, Test Loss: 1.069\n",
            "[43] [it=34000] Train Loss: 0.701, Test Loss: 1.026\n",
            "[44] [it=35000] Train Loss: 0.694, Test Loss: 1.039\n",
            "[46] [it=36000] Train Loss: 0.677, Test Loss: 1.044\n",
            "[47] [it=37000] Train Loss: 0.662, Test Loss: 1.045\n",
            "[48] [it=38000] Train Loss: 0.648, Test Loss: 1.064\n",
            "[49] [it=39000] Train Loss: 0.637, Test Loss: 1.040\n",
            "[51] [it=40000] Train Loss: 0.623, Test Loss: 1.059\n",
            "[52] [it=41000] Train Loss: 0.618, Test Loss: 1.062\n",
            "[53] [it=42000] Train Loss: 0.602, Test Loss: 1.081\n",
            "[54] [it=43000] Train Loss: 0.594, Test Loss: 1.081\n",
            "[56] [it=44000] Train Loss: 0.570, Test Loss: 1.138\n",
            "[57] [it=45000] Train Loss: 0.566, Test Loss: 1.114\n",
            "[58] [it=46000] Train Loss: 0.557, Test Loss: 1.136\n",
            "[60] [it=47000] Train Loss: 0.540, Test Loss: 1.150\n",
            "[61] [it=48000] Train Loss: 0.531, Test Loss: 1.131\n",
            "[62] [it=49000] Train Loss: 0.522, Test Loss: 1.133\n",
            "[63] [it=50000] Train Loss: 0.511, Test Loss: 1.163\n",
            "[65] [it=51000] Train Loss: 0.498, Test Loss: 1.257\n",
            "[66] [it=52000] Train Loss: 0.488, Test Loss: 1.206\n",
            "[67] [it=53000] Train Loss: 0.480, Test Loss: 1.218\n",
            "[69] [it=54000] Train Loss: 0.467, Test Loss: 1.257\n",
            "[70] [it=55000] Train Loss: 0.448, Test Loss: 1.274\n",
            "[71] [it=56000] Train Loss: 0.449, Test Loss: 1.332\n",
            "[72] [it=57000] Train Loss: 0.434, Test Loss: 1.281\n",
            "[74] [it=58000] Train Loss: 0.429, Test Loss: 1.337\n",
            "[75] [it=59000] Train Loss: 0.411, Test Loss: 1.358\n",
            "[76] [it=60000] Train Loss: 0.410, Test Loss: 1.385\n",
            "[78] [it=61000] Train Loss: 0.407, Test Loss: 1.394\n",
            "[79] [it=62000] Train Loss: 0.387, Test Loss: 1.432\n",
            "[80] [it=63000] Train Loss: 0.383, Test Loss: 1.421\n",
            "[81] [it=64000] Train Loss: 0.372, Test Loss: 1.460\n",
            "[83] [it=65000] Train Loss: 0.366, Test Loss: 1.476\n",
            "[84] [it=66000] Train Loss: 0.348, Test Loss: 1.534\n",
            "[85] [it=67000] Train Loss: 0.347, Test Loss: 1.561\n",
            "[86] [it=68000] Train Loss: 0.341, Test Loss: 1.562\n",
            "[88] [it=69000] Train Loss: 0.328, Test Loss: 1.613\n",
            "[89] [it=70000] Train Loss: 0.324, Test Loss: 1.618\n",
            "[90] [it=71000] Train Loss: 0.315, Test Loss: 1.669\n",
            "[92] [it=72000] Train Loss: 0.311, Test Loss: 1.705\n",
            "[93] [it=73000] Train Loss: 0.291, Test Loss: 1.756\n",
            "[94] [it=74000] Train Loss: 0.291, Test Loss: 1.816\n",
            "[95] [it=75000] Train Loss: 0.288, Test Loss: 1.785\n",
            "[97] [it=76000] Train Loss: 0.283, Test Loss: 1.820\n",
            "[98] [it=77000] Train Loss: 0.266, Test Loss: 1.890\n",
            "[99] [it=78000] Train Loss: 0.262, Test Loss: 1.961\n",
            "[101] [it=79000] Train Loss: 0.261, Test Loss: 1.906\n",
            "[102] [it=80000] Train Loss: 0.242, Test Loss: 1.993\n",
            "[103] [it=81000] Train Loss: 0.236, Test Loss: 2.001\n",
            "[104] [it=82000] Train Loss: 0.244, Test Loss: 2.063\n",
            "[106] [it=83000] Train Loss: 0.230, Test Loss: 2.062\n",
            "[107] [it=84000] Train Loss: 0.221, Test Loss: 2.186\n",
            "[108] [it=85000] Train Loss: 0.230, Test Loss: 2.168\n",
            "[109] [it=86000] Train Loss: 0.225, Test Loss: 2.158\n",
            "[111] [it=87000] Train Loss: 0.209, Test Loss: 2.246\n",
            "[112] [it=88000] Train Loss: 0.197, Test Loss: 2.280\n",
            "[113] [it=89000] Train Loss: 0.204, Test Loss: 2.338\n",
            "[115] [it=90000] Train Loss: 0.193, Test Loss: 2.355\n",
            "[116] [it=91000] Train Loss: 0.190, Test Loss: 2.422\n",
            "[117] [it=92000] Train Loss: 0.185, Test Loss: 2.453\n",
            "[118] [it=93000] Train Loss: 0.192, Test Loss: 2.468\n",
            "[120] [it=94000] Train Loss: 0.180, Test Loss: 2.537\n",
            "[121] [it=95000] Train Loss: 0.165, Test Loss: 2.612\n",
            "[122] [it=96000] Train Loss: 0.172, Test Loss: 2.609\n",
            "[124] [it=97000] Train Loss: 0.176, Test Loss: 2.651\n",
            "[125] [it=98000] Train Loss: 0.173, Test Loss: 2.635\n",
            "[126] [it=99000] Train Loss: 0.165, Test Loss: 2.786\n",
            "[127] [it=100000] Train Loss: 0.164, Test Loss: 2.765\n",
            "[129] [it=101000] Train Loss: 0.159, Test Loss: 2.876\n",
            "[130] [it=102000] Train Loss: 0.148, Test Loss: 2.814\n",
            "[131] [it=103000] Train Loss: 0.141, Test Loss: 2.925\n",
            "[132] [it=104000] Train Loss: 0.139, Test Loss: 2.901\n",
            "[134] [it=105000] Train Loss: 0.136, Test Loss: 3.002\n",
            "[135] [it=106000] Train Loss: 0.137, Test Loss: 3.042\n",
            "[136] [it=107000] Train Loss: 0.141, Test Loss: 3.047\n",
            "[138] [it=108000] Train Loss: 0.132, Test Loss: 3.099\n",
            "[139] [it=109000] Train Loss: 0.136, Test Loss: 3.107\n",
            "[140] [it=110000] Train Loss: 0.146, Test Loss: 3.267\n",
            "[141] [it=111000] Train Loss: 0.141, Test Loss: 3.116\n",
            "[143] [it=112000] Train Loss: 0.111, Test Loss: 3.261\n",
            "[144] [it=113000] Train Loss: 0.130, Test Loss: 3.300\n",
            "[145] [it=114000] Train Loss: 0.113, Test Loss: 3.304\n",
            "[147] [it=115000] Train Loss: 0.131, Test Loss: 3.311\n",
            "[148] [it=116000] Train Loss: 0.111, Test Loss: 3.361\n",
            "[149] [it=117000] Train Loss: 0.111, Test Loss: 3.359\n",
            "Done training.\n"
          ]
        }
      ],
      "source": [
        "training_loss, testing_loss = [], []\n",
        "running_loss = []\n",
        "i = 0\n",
        "for epoch in range(150): # 150 epochs\n",
        "  for data in train_loader:\n",
        "    inputs, labels = data\n",
        "    # get the data to GPU (if available)\n",
        "    inputs, labels = inputs.to(device), labels.to(device)\n",
        "    optimizer.zero_grad()\n",
        "    # forward pass\n",
        "    outputs = net(inputs)\n",
        "    # backward pass\n",
        "    loss = criterion(outputs, labels)\n",
        "    loss.backward()\n",
        "    # update gradients\n",
        "    optimizer.step()\n",
        "    running_loss.append(loss.item())\n",
        "    i += 1\n",
        "    if i % 1000 == 0:\n",
        "      avg_train_loss = sum(running_loss) / len(running_loss)\n",
        "      avg_test_loss = get_test_loss(net, criterion, test_loader)\n",
        "      # clear the list\n",
        "      running_loss.clear()\n",
        "      # for logging & plotting later\n",
        "      training_loss.append(avg_train_loss)\n",
        "      testing_loss.append(avg_test_loss)\n",
        "      print(f\"[{epoch:2d}] [it={i:5d}] Train Loss: {avg_train_loss:.3f}, Test Loss: {avg_test_loss:.3f}\")\n",
        "\n",
        "  \n",
        "print(\"Done training.\")"
      ]
    },
    {
      "cell_type": "code",
      "execution_count": null,
      "metadata": {
        "colab": {
          "base_uri": "https://localhost:8080/"
        },
        "id": "PvQZ2SliFsIB",
        "outputId": "968c1a5d-25f2-4490-b16b-b2eb235a57e2"
      },
      "outputs": [
        {
          "output_type": "execute_result",
          "data": {
            "text/plain": [
              "NetDropout(\n",
              "  (conv1): Conv2d(3, 6, kernel_size=(5, 5), stride=(1, 1))\n",
              "  (pool): MaxPool2d(kernel_size=2, stride=2, padding=0, dilation=1, ceil_mode=False)\n",
              "  (conv2): Conv2d(6, 16, kernel_size=(5, 5), stride=(1, 1))\n",
              "  (do1): Dropout(p=0.2, inplace=False)\n",
              "  (fc1): Linear(in_features=400, out_features=120, bias=True)\n",
              "  (do2): Dropout(p=0.2, inplace=False)\n",
              "  (fc2): Linear(in_features=120, out_features=84, bias=True)\n",
              "  (do3): Dropout(p=0.1, inplace=False)\n",
              "  (fc3): Linear(in_features=84, out_features=10, bias=True)\n",
              ")"
            ]
          },
          "metadata": {},
          "execution_count": 11
        }
      ],
      "source": [
        "class NetDropout(nn.Module):\n",
        "    def __init__(self):\n",
        "        super().__init__()\n",
        "        self.conv1 = nn.Conv2d(3, 6, 5)\n",
        "        self.pool = nn.MaxPool2d(2, 2)\n",
        "        self.conv2 = nn.Conv2d(6, 16, 5)\n",
        "        self.do1 = nn.Dropout(0.2)  # 20% Probability\n",
        "        self.fc1 = nn.Linear(16 * 5 * 5, 120)\n",
        "        self.do2 = nn.Dropout(0.2)  # 20% Probability\n",
        "        self.fc2 = nn.Linear(120, 84)\n",
        "        self.do3 = nn.Dropout(0.1)  # 10% Probability\n",
        "        self.fc3 = nn.Linear(84, 10)\n",
        "\n",
        "    def forward(self, x):\n",
        "        x = self.pool(F.relu(self.conv1(x)))\n",
        "        x = self.pool(F.relu(self.conv2(x)))\n",
        "        x = self.do1(x)\n",
        "        x = torch.flatten(x, 1) # flatten all dimensions except batch\n",
        "        x = F.relu(self.fc1(x))\n",
        "        x = self.do2(x)\n",
        "        x = F.relu(self.fc2(x))\n",
        "        x = self.do3(x)\n",
        "        x = self.fc3(x)\n",
        "        return x\n",
        "\n",
        "\n",
        "net_dropout = NetDropout()\n",
        "net_dropout.to(device)"
      ]
    },
    {
      "cell_type": "code",
      "execution_count": null,
      "metadata": {
        "id": "SEA_uz78LJyi"
      },
      "outputs": [],
      "source": [
        "import torch.optim as optim\n",
        "\n",
        "criterion = nn.CrossEntropyLoss()\n",
        "optimizer = optim.SGD(net_dropout.parameters(), lr=0.001, momentum=0.9)"
      ]
    },
    {
      "cell_type": "code",
      "execution_count": null,
      "metadata": {
        "colab": {
          "base_uri": "https://localhost:8080/"
        },
        "id": "GVxgRJtD55Le",
        "outputId": "d205210e-df11-4dfd-f766-f7c77445cb3c"
      },
      "outputs": [
        {
          "output_type": "stream",
          "name": "stdout",
          "text": [
            "[ 1] [it= 1000] Train Loss: 2.296, Test Loss: 2.270\n",
            "[ 2] [it= 2000] Train Loss: 2.113, Test Loss: 1.992\n",
            "[ 3] [it= 3000] Train Loss: 1.910, Test Loss: 1.810\n",
            "[ 5] [it= 4000] Train Loss: 1.757, Test Loss: 1.680\n",
            "[ 6] [it= 5000] Train Loss: 1.660, Test Loss: 1.607\n",
            "[ 7] [it= 6000] Train Loss: 1.587, Test Loss: 1.563\n",
            "[ 8] [it= 7000] Train Loss: 1.535, Test Loss: 1.499\n",
            "[10] [it= 8000] Train Loss: 1.488, Test Loss: 1.481\n",
            "[11] [it= 9000] Train Loss: 1.455, Test Loss: 1.441\n",
            "[12] [it=10000] Train Loss: 1.426, Test Loss: 1.412\n",
            "[14] [it=11000] Train Loss: 1.400, Test Loss: 1.394\n",
            "[15] [it=12000] Train Loss: 1.377, Test Loss: 1.365\n",
            "[16] [it=13000] Train Loss: 1.350, Test Loss: 1.341\n",
            "[17] [it=14000] Train Loss: 1.332, Test Loss: 1.324\n",
            "[19] [it=15000] Train Loss: 1.311, Test Loss: 1.325\n",
            "[20] [it=16000] Train Loss: 1.289, Test Loss: 1.309\n",
            "[21] [it=17000] Train Loss: 1.264, Test Loss: 1.280\n",
            "[23] [it=18000] Train Loss: 1.255, Test Loss: 1.290\n",
            "[24] [it=19000] Train Loss: 1.238, Test Loss: 1.255\n",
            "[25] [it=20000] Train Loss: 1.218, Test Loss: 1.250\n",
            "[26] [it=21000] Train Loss: 1.202, Test Loss: 1.220\n",
            "[28] [it=22000] Train Loss: 1.188, Test Loss: 1.219\n",
            "[29] [it=23000] Train Loss: 1.174, Test Loss: 1.216\n",
            "[30] [it=24000] Train Loss: 1.161, Test Loss: 1.207\n",
            "[31] [it=25000] Train Loss: 1.146, Test Loss: 1.185\n",
            "[33] [it=26000] Train Loss: 1.134, Test Loss: 1.201\n",
            "[34] [it=27000] Train Loss: 1.116, Test Loss: 1.179\n",
            "[35] [it=28000] Train Loss: 1.109, Test Loss: 1.190\n",
            "[37] [it=29000] Train Loss: 1.102, Test Loss: 1.145\n",
            "[38] [it=30000] Train Loss: 1.085, Test Loss: 1.164\n",
            "[39] [it=31000] Train Loss: 1.075, Test Loss: 1.148\n",
            "[40] [it=32000] Train Loss: 1.067, Test Loss: 1.146\n",
            "[42] [it=33000] Train Loss: 1.061, Test Loss: 1.131\n",
            "[43] [it=34000] Train Loss: 1.045, Test Loss: 1.145\n",
            "[44] [it=35000] Train Loss: 1.039, Test Loss: 1.127\n",
            "[46] [it=36000] Train Loss: 1.027, Test Loss: 1.140\n",
            "[47] [it=37000] Train Loss: 1.020, Test Loss: 1.133\n",
            "[48] [it=38000] Train Loss: 1.014, Test Loss: 1.109\n",
            "[49] [it=39000] Train Loss: 1.011, Test Loss: 1.104\n",
            "[51] [it=40000] Train Loss: 1.002, Test Loss: 1.113\n",
            "[52] [it=41000] Train Loss: 0.993, Test Loss: 1.105\n",
            "[53] [it=42000] Train Loss: 0.991, Test Loss: 1.098\n",
            "[54] [it=43000] Train Loss: 0.984, Test Loss: 1.091\n",
            "[56] [it=44000] Train Loss: 0.971, Test Loss: 1.099\n",
            "[57] [it=45000] Train Loss: 0.964, Test Loss: 1.106\n",
            "[58] [it=46000] Train Loss: 0.960, Test Loss: 1.080\n",
            "[60] [it=47000] Train Loss: 0.954, Test Loss: 1.095\n",
            "[61] [it=48000] Train Loss: 0.947, Test Loss: 1.095\n",
            "[62] [it=49000] Train Loss: 0.943, Test Loss: 1.091\n",
            "[63] [it=50000] Train Loss: 0.945, Test Loss: 1.099\n",
            "[65] [it=51000] Train Loss: 0.931, Test Loss: 1.092\n",
            "[66] [it=52000] Train Loss: 0.927, Test Loss: 1.090\n",
            "[67] [it=53000] Train Loss: 0.927, Test Loss: 1.074\n",
            "[69] [it=54000] Train Loss: 0.927, Test Loss: 1.076\n",
            "[70] [it=55000] Train Loss: 0.913, Test Loss: 1.073\n",
            "[71] [it=56000] Train Loss: 0.916, Test Loss: 1.075\n",
            "[72] [it=57000] Train Loss: 0.910, Test Loss: 1.086\n",
            "[74] [it=58000] Train Loss: 0.901, Test Loss: 1.091\n",
            "[75] [it=59000] Train Loss: 0.901, Test Loss: 1.076\n",
            "[76] [it=60000] Train Loss: 0.898, Test Loss: 1.094\n",
            "[78] [it=61000] Train Loss: 0.897, Test Loss: 1.064\n",
            "[79] [it=62000] Train Loss: 0.885, Test Loss: 1.090\n",
            "[80] [it=63000] Train Loss: 0.887, Test Loss: 1.065\n",
            "[81] [it=64000] Train Loss: 0.888, Test Loss: 1.091\n",
            "[83] [it=65000] Train Loss: 0.882, Test Loss: 1.075\n",
            "[84] [it=66000] Train Loss: 0.875, Test Loss: 1.069\n",
            "[85] [it=67000] Train Loss: 0.872, Test Loss: 1.087\n",
            "[86] [it=68000] Train Loss: 0.872, Test Loss: 1.074\n",
            "[88] [it=69000] Train Loss: 0.865, Test Loss: 1.084\n",
            "[89] [it=70000] Train Loss: 0.861, Test Loss: 1.086\n",
            "[90] [it=71000] Train Loss: 0.865, Test Loss: 1.086\n",
            "[92] [it=72000] Train Loss: 0.859, Test Loss: 1.069\n",
            "[93] [it=73000] Train Loss: 0.853, Test Loss: 1.067\n",
            "[94] [it=74000] Train Loss: 0.855, Test Loss: 1.076\n",
            "[95] [it=75000] Train Loss: 0.853, Test Loss: 1.081\n",
            "[97] [it=76000] Train Loss: 0.847, Test Loss: 1.095\n",
            "[98] [it=77000] Train Loss: 0.846, Test Loss: 1.112\n",
            "[99] [it=78000] Train Loss: 0.849, Test Loss: 1.079\n",
            "[101] [it=79000] Train Loss: 0.841, Test Loss: 1.083\n",
            "[102] [it=80000] Train Loss: 0.833, Test Loss: 1.075\n",
            "[103] [it=81000] Train Loss: 0.837, Test Loss: 1.082\n",
            "[104] [it=82000] Train Loss: 0.837, Test Loss: 1.105\n",
            "[106] [it=83000] Train Loss: 0.832, Test Loss: 1.086\n",
            "[107] [it=84000] Train Loss: 0.829, Test Loss: 1.088\n",
            "[108] [it=85000] Train Loss: 0.831, Test Loss: 1.075\n",
            "[109] [it=86000] Train Loss: 0.823, Test Loss: 1.077\n",
            "[111] [it=87000] Train Loss: 0.822, Test Loss: 1.083\n",
            "[112] [it=88000] Train Loss: 0.819, Test Loss: 1.081\n",
            "[113] [it=89000] Train Loss: 0.824, Test Loss: 1.078\n",
            "[115] [it=90000] Train Loss: 0.815, Test Loss: 1.087\n",
            "[116] [it=91000] Train Loss: 0.824, Test Loss: 1.095\n",
            "[117] [it=92000] Train Loss: 0.813, Test Loss: 1.082\n",
            "[118] [it=93000] Train Loss: 0.817, Test Loss: 1.081\n",
            "[120] [it=94000] Train Loss: 0.806, Test Loss: 1.082\n",
            "[121] [it=95000] Train Loss: 0.808, Test Loss: 1.089\n",
            "[122] [it=96000] Train Loss: 0.809, Test Loss: 1.072\n",
            "[124] [it=97000] Train Loss: 0.807, Test Loss: 1.087\n",
            "[125] [it=98000] Train Loss: 0.802, Test Loss: 1.091\n",
            "[126] [it=99000] Train Loss: 0.804, Test Loss: 1.083\n",
            "[127] [it=100000] Train Loss: 0.806, Test Loss: 1.085\n",
            "[129] [it=101000] Train Loss: 0.803, Test Loss: 1.096\n",
            "[130] [it=102000] Train Loss: 0.798, Test Loss: 1.089\n",
            "[131] [it=103000] Train Loss: 0.790, Test Loss: 1.096\n",
            "[132] [it=104000] Train Loss: 0.799, Test Loss: 1.102\n",
            "[134] [it=105000] Train Loss: 0.799, Test Loss: 1.079\n",
            "[135] [it=106000] Train Loss: 0.794, Test Loss: 1.096\n",
            "[136] [it=107000] Train Loss: 0.798, Test Loss: 1.102\n",
            "[138] [it=108000] Train Loss: 0.792, Test Loss: 1.096\n",
            "[139] [it=109000] Train Loss: 0.786, Test Loss: 1.104\n",
            "[140] [it=110000] Train Loss: 0.790, Test Loss: 1.102\n",
            "[141] [it=111000] Train Loss: 0.785, Test Loss: 1.105\n",
            "[143] [it=112000] Train Loss: 0.780, Test Loss: 1.102\n",
            "[144] [it=113000] Train Loss: 0.787, Test Loss: 1.095\n",
            "[145] [it=114000] Train Loss: 0.785, Test Loss: 1.099\n",
            "[147] [it=115000] Train Loss: 0.778, Test Loss: 1.099\n",
            "[148] [it=116000] Train Loss: 0.781, Test Loss: 1.087\n",
            "[149] [it=117000] Train Loss: 0.781, Test Loss: 1.081\n",
            "Done training.\n"
          ]
        }
      ],
      "source": [
        "training_loss_d, testing_loss_d = [], []\n",
        "running_loss = []\n",
        "i = 0\n",
        "for epoch in range(150): # 10 epochs\n",
        "  for data in train_loader:\n",
        "    inputs, labels = data\n",
        "    # get the data to GPU (if available)\n",
        "    inputs, labels = inputs.to(device), labels.to(device)\n",
        "\n",
        "    optimizer.zero_grad()\n",
        "    # forward pass\n",
        "    outputs = net_dropout(inputs)\n",
        "    # backward pass\n",
        "    loss = criterion(outputs, labels)\n",
        "    loss.backward()\n",
        "    # update gradients\n",
        "    optimizer.step()\n",
        "    running_loss.append(loss.item())\n",
        "    i += 1\n",
        "    if i % 1000 == 0:\n",
        "      avg_train_loss = sum(running_loss) / len(running_loss)\n",
        "      avg_test_loss = get_test_loss(net_dropout, criterion, test_loader)\n",
        "      # clear the list\n",
        "      running_loss.clear()\n",
        "      # for logging & plotting later\n",
        "      training_loss_d.append(avg_train_loss)\n",
        "      testing_loss_d.append(avg_test_loss)\n",
        "      print(f\"[{epoch:2d}] [it={i:5d}] Train Loss: {avg_train_loss:.3f}, Test Loss: {avg_test_loss:.3f}\")\n",
        "\n",
        "  \n",
        "print(\"Done training.\")"
      ]
    },
    {
      "cell_type": "code",
      "execution_count": 16,
      "metadata": {
        "colab": {
          "base_uri": "https://localhost:8080/",
          "height": 281
        },
        "id": "kzLI4l9mHgiD",
        "outputId": "adee9a9d-ecfa-4a54-d745-ef76281fc822"
      },
      "outputs": [
        {
          "output_type": "display_data",
          "data": {
            "text/plain": [
              "<Figure size 432x288 with 1 Axes>"
            ],
            "image/png": "[encoded data removed]"
          },
          "metadata": {
            "needs_background": "light"
          }
        }
      ],
      "source": [
        "import matplotlib.pyplot as plt\n",
        "\n",
        "# plot both benchmarks\n",
        "plt.plot(testing_loss, label=\"no dropout\")\n",
        "plt.plot(testing_loss_d, label=\"with dropout\")\n",
        "# make the legend on the plot\n",
        "plt.legend()\n",
        "plt.title(\"The Cross-entropy loss of the MNIST test data with and w/o Dropout\")\n",
        "plt.show()"
      ]
    },
    {
      "cell_type": "code",
      "execution_count": 15,
      "metadata": {
        "id": "_MazH3NNHenJ",
        "colab": {
          "base_uri": "https://localhost:8080/",
          "height": 207
        },
        "outputId": "36467580-48bb-423c-9dd7-533996918bd7"
      },
      "outputs": [
        {
          "output_type": "error",
          "ename": "KeyboardInterrupt",
          "evalue": "ignored",
          "traceback": [
            "\u001b[0;31m---------------------------------------------------------------------------\u001b[0m",
            "\u001b[0;31mKeyboardInterrupt\u001b[0m                         Traceback (most recent call last)",
            "\u001b[0;32m<ipython-input-15-3c10b8485208>\u001b[0m in \u001b[0;36m<module>\u001b[0;34m()\u001b[0m\n\u001b[1;32m      2\u001b[0m \u001b[0;34m\u001b[0m\u001b[0m\n\u001b[1;32m      3\u001b[0m \u001b[0;32mwhile\u001b[0m \u001b[0;32mTrue\u001b[0m\u001b[0;34m:\u001b[0m\u001b[0;34m\u001b[0m\u001b[0;34m\u001b[0m\u001b[0m\n\u001b[0;32m----> 4\u001b[0;31m   \u001b[0mtime\u001b[0m\u001b[0;34m.\u001b[0m\u001b[0msleep\u001b[0m\u001b[0;34m(\u001b[0m\u001b[0;36m30\u001b[0m\u001b[0;34m)\u001b[0m\u001b[0;34m\u001b[0m\u001b[0;34m\u001b[0m\u001b[0m\n\u001b[0m",
            "\u001b[0;31mKeyboardInterrupt\u001b[0m: "
          ]
        }
      ],
      "source": [
        "import time\n",
        "\n",
        "while True:\n",
        "  time.sleep(30)"
      ]
    }
  ],
  "metadata": {
    "accelerator": "GPU",
    "colab": {
      "collapsed_sections": [],
      "name": "DropoutRegularizationPyTorch_PythonCodeTutorial.ipynb",
      "provenance": []
    },
    "kernelspec": {
      "display_name": "Python 3",
      "name": "python3"
    },
    "language_info": {
      "name": "python"
    },
    "widgets": {
      "application/vnd.jupyter.widget-state+json": {
        "b4a6874638e2443f8c43e0db744fa327": {
          "model_module": "@jupyter-widgets/controls",
          "model_name": "HBoxModel",
          "model_module_version": "1.5.0",
          "state": {
            "_dom_classes": [],
            "_model_module": "@jupyter-widgets/controls",
            "_model_module_version": "1.5.0",
            "_model_name": "HBoxModel",
            "_view_count": null,
            "_view_module": "@jupyter-widgets/controls",
            "_view_module_version": "1.5.0",
            "_view_name": "HBoxView",
            "box_style": "",
            "children": [
              "IPY_MODEL_befda00472714307afad3307ced59f39",
              "IPY_MODEL_073e2b2d0c164e5ba3ab91c64618e27c",
              "IPY_MODEL_367a2d97f6014f67b2557e5e26a76e2b"
            ],
            "layout": "IPY_MODEL_faa9f040562349cea6bf0b619249d5b4"
          }
        },
        "befda00472714307afad3307ced59f39": {
          "model_module": "@jupyter-widgets/controls",
          "model_name": "HTMLModel",
          "model_module_version": "1.5.0",
          "state": {
            "_dom_classes": [],
            "_model_module": "@jupyter-widgets/controls",
            "_model_module_version": "1.5.0",
            "_model_name": "HTMLModel",
            "_view_count": null,
            "_view_module": "@jupyter-widgets/controls",
            "_view_module_version": "1.5.0",
            "_view_name": "HTMLView",
            "description": "",
            "description_tooltip": null,
            "layout": "IPY_MODEL_506e3b6439b6476499deaf812300bf48",
            "placeholder": "​",
            "style": "IPY_MODEL_fee449ec39d24cbdbd6912bbdd95649f",
            "value": ""
          }
        },
        "073e2b2d0c164e5ba3ab91c64618e27c": {
          "model_module": "@jupyter-widgets/controls",
          "model_name": "FloatProgressModel",
          "model_module_version": "1.5.0",
          "state": {
            "_dom_classes": [],
            "_model_module": "@jupyter-widgets/controls",
            "_model_module_version": "1.5.0",
            "_model_name": "FloatProgressModel",
            "_view_count": null,
            "_view_module": "@jupyter-widgets/controls",
            "_view_module_version": "1.5.0",
            "_view_name": "ProgressView",
            "bar_style": "success",
            "description": "",
            "description_tooltip": null,
            "layout": "IPY_MODEL_ccda80a9207f470bb93b1ce9c7fb67d4",
            "max": 170498071,
            "min": 0,
            "orientation": "horizontal",
            "style": "IPY_MODEL_ad67632afdf947c8b7136799037a63df",
            "value": 170498071
          }
        },
        "367a2d97f6014f67b2557e5e26a76e2b": {
          "model_module": "@jupyter-widgets/controls",
          "model_name": "HTMLModel",
          "model_module_version": "1.5.0",
          "state": {
            "_dom_classes": [],
            "_model_module": "@jupyter-widgets/controls",
            "_model_module_version": "1.5.0",
            "_model_name": "HTMLModel",
            "_view_count": null,
            "_view_module": "@jupyter-widgets/controls",
            "_view_module_version": "1.5.0",
            "_view_name": "HTMLView",
            "description": "",
            "description_tooltip": null,
            "layout": "IPY_MODEL_50a6c0a6110e470291a56b008d7657b3",
            "placeholder": "​",
            "style": "IPY_MODEL_2ec3f8f6c8ae408ea62db2cc9368483a",
            "value": " 170499072/? [00:03&lt;00:00, 47975117.30it/s]"
          }
        },
        "faa9f040562349cea6bf0b619249d5b4": {
          "model_module": "@jupyter-widgets/base",
          "model_name": "LayoutModel",
          "model_module_version": "1.2.0",
          "state": {
            "_model_module": "@jupyter-widgets/base",
            "_model_module_version": "1.2.0",
            "_model_name": "LayoutModel",
            "_view_count": null,
            "_view_module": "@jupyter-widgets/base",
            "_view_module_version": "1.2.0",
            "_view_name": "LayoutView",
            "align_content": null,
            "align_items": null,
            "align_self": null,
            "border": null,
            "bottom": null,
            "display": null,
            "flex": null,
            "flex_flow": null,
            "grid_area": null,
            "grid_auto_columns": null,
            "grid_auto_flow": null,
            "grid_auto_rows": null,
            "grid_column": null,
            "grid_gap": null,
            "grid_row": null,
            "grid_template_areas": null,
            "grid_template_columns": null,
            "grid_template_rows": null,
            "height": null,
            "justify_content": null,
            "justify_items": null,
            "left": null,
            "margin": null,
            "max_height": null,
            "max_width": null,
            "min_height": null,
            "min_width": null,
            "object_fit": null,
            "object_position": null,
            "order": null,
            "overflow": null,
            "overflow_x": null,
            "overflow_y": null,
            "padding": null,
            "right": null,
            "top": null,
            "visibility": null,
            "width": null
          }
        },
        "506e3b6439b6476499deaf812300bf48": {
          "model_module": "@jupyter-widgets/base",
          "model_name": "LayoutModel",
          "model_module_version": "1.2.0",
          "state": {
            "_model_module": "@jupyter-widgets/base",
            "_model_module_version": "1.2.0",
            "_model_name": "LayoutModel",
            "_view_count": null,
            "_view_module": "@jupyter-widgets/base",
            "_view_module_version": "1.2.0",
            "_view_name": "LayoutView",
            "align_content": null,
            "align_items": null,
            "align_self": null,
            "border": null,
            "bottom": null,
            "display": null,
            "flex": null,
            "flex_flow": null,
            "grid_area": null,
            "grid_auto_columns": null,
            "grid_auto_flow": null,
            "grid_auto_rows": null,
            "grid_column": null,
            "grid_gap": null,
            "grid_row": null,
            "grid_template_areas": null,
            "grid_template_columns": null,
            "grid_template_rows": null,
            "height": null,
            "justify_content": null,
            "justify_items": null,
            "left": null,
            "margin": null,
            "max_height": null,
            "max_width": null,
            "min_height": null,
            "min_width": null,
            "object_fit": null,
            "object_position": null,
            "order": null,
            "overflow": null,
            "overflow_x": null,
            "overflow_y": null,
            "padding": null,
            "right": null,
            "top": null,
            "visibility": null,
            "width": null
          }
        },
        "fee449ec39d24cbdbd6912bbdd95649f": {
          "model_module": "@jupyter-widgets/controls",
          "model_name": "DescriptionStyleModel",
          "model_module_version": "1.5.0",
          "state": {
            "_model_module": "@jupyter-widgets/controls",
            "_model_module_version": "1.5.0",
            "_model_name": "DescriptionStyleModel",
            "_view_count": null,
            "_view_module": "@jupyter-widgets/base",
            "_view_module_version": "1.2.0",
            "_view_name": "StyleView",
            "description_width": ""
          }
        },
        "ccda80a9207f470bb93b1ce9c7fb67d4": {
          "model_module": "@jupyter-widgets/base",
          "model_name": "LayoutModel",
          "model_module_version": "1.2.0",
          "state": {
            "_model_module": "@jupyter-widgets/base",
            "_model_module_version": "1.2.0",
            "_model_name": "LayoutModel",
            "_view_count": null,
            "_view_module": "@jupyter-widgets/base",
            "_view_module_version": "1.2.0",
            "_view_name": "LayoutView",
            "align_content": null,
            "align_items": null,
            "align_self": null,
            "border": null,
            "bottom": null,
            "display": null,
            "flex": null,
            "flex_flow": null,
            "grid_area": null,
            "grid_auto_columns": null,
            "grid_auto_flow": null,
            "grid_auto_rows": null,
            "grid_column": null,
            "grid_gap": null,
            "grid_row": null,
            "grid_template_areas": null,
            "grid_template_columns": null,
            "grid_template_rows": null,
            "height": null,
            "justify_content": null,
            "justify_items": null,
            "left": null,
            "margin": null,
            "max_height": null,
            "max_width": null,
            "min_height": null,
            "min_width": null,
            "object_fit": null,
            "object_position": null,
            "order": null,
            "overflow": null,
            "overflow_x": null,
            "overflow_y": null,
            "padding": null,
            "right": null,
            "top": null,
            "visibility": null,
            "width": null
          }
        },
        "ad67632afdf947c8b7136799037a63df": {
          "model_module": "@jupyter-widgets/controls",
          "model_name": "ProgressStyleModel",
          "model_module_version": "1.5.0",
          "state": {
            "_model_module": "@jupyter-widgets/controls",
            "_model_module_version": "1.5.0",
            "_model_name": "ProgressStyleModel",
            "_view_count": null,
            "_view_module": "@jupyter-widgets/base",
            "_view_module_version": "1.2.0",
            "_view_name": "StyleView",
            "bar_color": null,
            "description_width": ""
          }
        },
        "50a6c0a6110e470291a56b008d7657b3": {
          "model_module": "@jupyter-widgets/base",
          "model_name": "LayoutModel",
          "model_module_version": "1.2.0",
          "state": {
            "_model_module": "@jupyter-widgets/base",
            "_model_module_version": "1.2.0",
            "_model_name": "LayoutModel",
            "_view_count": null,
            "_view_module": "@jupyter-widgets/base",
            "_view_module_version": "1.2.0",
            "_view_name": "LayoutView",
            "align_content": null,
            "align_items": null,
            "align_self": null,
            "border": null,
            "bottom": null,
            "display": null,
            "flex": null,
            "flex_flow": null,
            "grid_area": null,
            "grid_auto_columns": null,
            "grid_auto_flow": null,
            "grid_auto_rows": null,
            "grid_column": null,
            "grid_gap": null,
            "grid_row": null,
            "grid_template_areas": null,
            "grid_template_columns": null,
            "grid_template_rows": null,
            "height": null,
            "justify_content": null,
            "justify_items": null,
            "left": null,
            "margin": null,
            "max_height": null,
            "max_width": null,
            "min_height": null,
            "min_width": null,
            "object_fit": null,
            "object_position": null,
            "order": null,
            "overflow": null,
            "overflow_x": null,
            "overflow_y": null,
            "padding": null,
            "right": null,
            "top": null,
            "visibility": null,
            "width": null
          }
        },
        "2ec3f8f6c8ae408ea62db2cc9368483a": {
          "model_module": "@jupyter-widgets/controls",
          "model_name": "DescriptionStyleModel",
          "model_module_version": "1.5.0",
          "state": {
            "_model_module": "@jupyter-widgets/controls",
            "_model_module_version": "1.5.0",
            "_model_name": "DescriptionStyleModel",
            "_view_count": null,
            "_view_module": "@jupyter-widgets/base",
            "_view_module_version": "1.2.0",
            "_view_name": "StyleView",
            "description_width": ""
          }
        }
      }
    }
  },
  "nbformat": 4,
  "nbformat_minor": 0
}