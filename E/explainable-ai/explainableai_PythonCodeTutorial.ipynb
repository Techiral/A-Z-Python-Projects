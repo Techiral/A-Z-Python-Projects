{
  "cells": [
    {
      "cell_type": "markdown",
      "metadata": {
        "id": "AtYEGElhJxD7"
      },
      "source": [
        "## Explaining Logistic Regression Moel with SHAP\n",
        "Logistic regression is often used to predict the probability of binary or multinomial outcomes. it can be multinomial(where more than two outcomes are also possible).\n",
        "Class separation is complex in a multinomial class classification model.\n",
        "A logistic regression model assumes a logarithmic relationship between the dependent and independent variables, while a linear regression model assumes a linear relationship. \n",
        "The variable of interest in many real-life settings is categorical: The purchase or non-purchase of a product, the approval or non-approval of a credit card, or the cancerousness of a tumor.\n",
        "Logistic regression can estimate the likelihood of a case belonging to a specific level in the dependant variable. \n",
        "The logistic regression model can be explained using the following equation:\n",
        "{Formula]\n",
        "\n",
        "The outcome's log-odds are given by the formula Ln (P/1-P).\n",
        "According to the preceding equation's beta coefficients, the outcome variable's probabilities increase or decrease by one unit when the explanatory variable rises or falls. \n",
        "The interpretation of a logistic regression model differs significantly from the interpretation of a linear regression model.\n",
        "The right-hand side equation's weighted sum is turned into a probability value. The log-odds are used to describe the value on the left side of the equation. \n",
        "It is termed the log odds because it represents the ratio of an event occurring to the probability of an event not occurring.\n",
        "To comprehend the logistic regression model and how decisions are made, it is necessary to grasp the concepts of probabilities and odds.\n",
        "You'll utilize churndata.csv, a file in the telecommunications category with 3,333 entries and 18 distinct features. \n",
        "\n",
        "\u001e\n",
        "\u001d \u001c\n",
        "\u001b\n",
        "\u001a \u0019\n",
        "\u0018 \u0015 \u0017 \u0015 \u0017 \u0015 \u0017\u0016\u0017 \u0015"
      ]
    },
    {
      "cell_type": "code",
      "execution_count": null,
      "metadata": {
        "colab": {
          "base_uri": "https://localhost:8080/"
        },
        "id": "vBBUsHovAKG0",
        "outputId": "3b8b2e45-0e73-4b97-92a3-1c5fb2d40990"
      },
      "outputs": [],
      "source": [
        "!pip install shap\n",
        "!pip install LIME\n",
        "!pip install interpret-core\n"
      ]
    },
    {
      "cell_type": "code",
      "execution_count": null,
      "metadata": {
        "colab": {
          "base_uri": "https://localhost:8080/"
        },
        "id": "Tmb8im0uz-jg",
        "outputId": "7c171c15-262c-41ab-adbc-4d76cce306fb"
      },
      "outputs": [],
      "source": [
        "#mount drive\n",
        "%cd ..\n",
        "from google.colab import drive\n",
        "drive.mount('/content/gdrive')\n",
        "\n",
        "# Execute the following command to build a symbolic link, so that the path /content/gdrive/My Drive/ is now equivalent to /mydrive.\n",
        "!ln -s /content/gdrive/My\\ Drive/ /mydrive\n",
        "\n",
        "# list the contents of /mydrive\n",
        "!ls /mydrive\n",
        "\n",
        "#Navigate to /mydrive/churn\n",
        "%cd /mydrive/churn/"
      ]
    },
    {
      "cell_type": "code",
      "execution_count": null,
      "metadata": {
        "id": "a2Hkqgae0uoZ"
      },
      "outputs": [],
      "source": [
        "import pandas as pd\n",
        "import numpy as np\n",
        "import matplotlib.pyplot as plt\n",
        "%matplotlib inline\n",
        "from sklearn.linear_model import LogisticRegression, LogisticRegressionCV\n",
        "from sklearn.metrics import confusion_matrix, classification_report\n",
        "from sklearn.preprocessing import LabelEncoder\n",
        "from sklearn.model_selection import train_test_split\n",
        "from sklearn.linear_model import LinearRegression\n",
        "import interpret.glassbox\n",
        "import xgboost\n",
        "import shap\n",
        "import lime\n",
        "import lime.lime_tabular\n",
        "import sklearn\n",
        "import warnings\n",
        "warnings.filterwarnings('ignore')"
      ]
    },
    {
      "cell_type": "markdown",
      "metadata": {
        "id": "9KJPGokMgxak"
      },
      "source": [
        "As a first stage, you get the data, then convert specific features already in string format using a label encoder.\n",
        "You divide the data into 80 percent for training and 20 percent for testing following the transformation.\n",
        "To keep the classes balanced, maintain the percentage of churn and no-churn cases while generating the train/test split.\n",
        "The model is then trained, and the learned model is applied to the test data."
      ]
    },
    {
      "cell_type": "code",
      "execution_count": null,
      "metadata": {
        "colab": {
          "base_uri": "https://localhost:8080/",
          "height": 317
        },
        "id": "tqEr4TGH0VXA",
        "outputId": "838d3a0a-e0df-4bfe-b541-0e6af229c24c"
      },
      "outputs": [],
      "source": [
        "data = pd.read_csv('/mydrive/churn/Telecom_Train.csv')\n",
        "data.head()"
      ]
    },
    {
      "cell_type": "code",
      "execution_count": null,
      "metadata": {
        "colab": {
          "base_uri": "https://localhost:8080/"
        },
        "id": "9UnCJucE2RVC",
        "outputId": "f4c60cc8-ec87-4922-cb85-a08c9bbba2e9"
      },
      "outputs": [],
      "source": [
        "del data['Unnamed: 0'] ## delete Unnamed: 0\n",
        "le = LabelEncoder() ## perform label encoding\n",
        "data['area_code_tr'] = le.fit_transform(data['area_code'])\n",
        "del data['area_code'] ## delete area_code\n",
        "data['churn_dum'] = pd.get_dummies(data.\n",
        "churn,prefix='churn',drop_first=True)\n",
        "del data['international_plan'] ## delete international_plan\n",
        "del data['voice_mail_plan'] ## delete voice_mail_plan\n",
        "del data['churn'] ## delete churn\n",
        "data.info()\n",
        "data.columns"
      ]
    },
    {
      "cell_type": "code",
      "execution_count": null,
      "metadata": {
        "colab": {
          "base_uri": "https://localhost:8080/"
        },
        "id": "17yMKddu9TmC",
        "outputId": "b7c430f9-de01-4feb-df0f-6f26cc8ad5b3"
      },
      "outputs": [],
      "source": [
        "X = data[['account_length', 'number_vmail_messages', 'total_day_minutes',\n",
        "'total_day_calls', 'total_day_charge', 'total_eve_minutes',\n",
        "'total_eve_calls', 'total_eve_charge', 'total_night_minutes',\n",
        "'total_night_calls', 'total_night_charge', 'total_intl_minutes',\n",
        "'total_intl_calls', 'total_intl_charge',\n",
        "'number_customer_service_calls', 'area_code_tr']]\n",
        "Y = data['churn_dum']\n",
        "xtrain,xtest,ytrain,ytest=train_test_split(X,Y,test_size=0.20,stratify=Y)\n",
        "l_model = LogisticRegression(max_iter=10000)\n",
        "l_model.fit(xtrain,ytrain)\n",
        "print(\"training accuracy:\", l_model.score(xtrain,ytrain)) #training accuracy\n",
        "print(\"test accuracy:\",l_model.score(xtest,ytest)) # test accuracy\n"
      ]
    },
    {
      "cell_type": "code",
      "execution_count": null,
      "metadata": {
        "colab": {
          "base_uri": "https://localhost:8080/"
        },
        "id": "t5BZjb6_-4FB",
        "outputId": "9f0050a2-4dd4-44f2-e9fd-1f66ec4f59d1"
      },
      "outputs": [],
      "source": [
        "print(np.round(l_model.coef_,2))## Coeffiscient \n",
        "print(l_model.intercept_) ## intercept"
      ]
    },
    {
      "cell_type": "markdown",
      "metadata": {
        "id": "TwmC-dR4kSCu"
      },
      "source": [
        "\n",
        "Only the area code is transformed. The remaining features are either integers or floating-point numbers to train the model.\n",
        "It's now possible to see how a prediction is made by examining the distribution of probabilities, the log odds, the odds ratios, and other model parameters.\n",
        "SHAP values may reveal strong interaction effects when used to explain the probability of a logistic regression model.\n"
      ]
    },
    {
      "cell_type": "markdown",
      "metadata": {
        "id": "1x80UP8ApJA8"
      },
      "source": [
        "The appropriate output may be generated using two new utility functions that you built and which can then be used in a visual representation of SHAP values. "
      ]
    },
    {
      "cell_type": "code",
      "execution_count": null,
      "metadata": {
        "id": "UzhUJilF_Ctz"
      },
      "outputs": [],
      "source": [
        "# Provide Probability as Output\n",
        "def m_churn_proba(x):\n",
        "   return l_model.predict_proba(x)[:,1]\n",
        "# Provide Log Odds as Output\n",
        "def model_churn_log_odds(x):\n",
        "   p = l_model.predict_log_proba(x)\n",
        "   return p[:,1] - p[:,0]"
      ]
    },
    {
      "cell_type": "markdown",
      "metadata": {
        "id": "uVwjfxjxraJS"
      },
      "source": [
        "The partial dependency plot for the feature total day in minutes for record number 25 demonstrates a positive but not linear relationship between the function's probability value or predicted value and the feature."
      ]
    },
    {
      "cell_type": "code",
      "execution_count": null,
      "metadata": {
        "colab": {
          "base_uri": "https://localhost:8080/",
          "height": 297
        },
        "id": "BJhJtksK_1zI",
        "outputId": "7dffb185-d950-4820-981a-c884a7826327"
      },
      "outputs": [],
      "source": [
        "# make a standard partial dependence plot\n",
        "sample_ind = 25\n",
        "fig,ax = shap.partial_dependence_plot(\n",
        "\"total_day_minutes\", m_churn_proba, X, model_expected_value=True,\n",
        "feature_expected_value=True, show=False, ice=False)"
      ]
    },
    {
      "cell_type": "markdown",
      "metadata": {
        "id": "ikgr7fY9yRNm"
      },
      "source": [
        "Any machine learning model or Python function may be explained using Shapley values. This is the SHAP library's primary explainer interface.\n",
        "It accepts any model and masker combination and produces a callable subclass object that implements the selected estimate technique. "
      ]
    },
    {
      "cell_type": "code",
      "execution_count": null,
      "metadata": {
        "colab": {
          "base_uri": "https://localhost:8080/",
          "height": 488
        },
        "id": "jdXR8EFUEQTB",
        "outputId": "4072721a-cce2-4a09-a3d6-cbf777d13bd6"
      },
      "outputs": [],
      "source": [
        "# compute the SHAP values for the linear model\n",
        "background_c = shap.maskers.Independent(X, max_samples=1000) ## Concealed features may be hidden by using this function. \n",
        "explainer = shap.Explainer(l_model, background_c,\n",
        "feature_names=list(X.columns))\n",
        "shap_values_c = explainer(X)\n",
        "shap_values = pd.DataFrame(shap_values_c.values)\n",
        "shap_values.columns = list(X.columns)\n",
        "shap_values"
      ]
    },
    {
      "cell_type": "markdown",
      "metadata": {
        "id": "unI6Yvg-0RP5"
      },
      "source": [
        "There is a strong, perfect linear relationship between account length and SHAP values of account length in the scatterplot. "
      ]
    },
    {
      "cell_type": "code",
      "execution_count": null,
      "metadata": {
        "colab": {
          "base_uri": "https://localhost:8080/",
          "height": 337
        },
        "id": "vOyB_89E0Y74",
        "outputId": "f5395f45-6416-4ad0-cb23-a8704cc3bfe3"
      },
      "outputs": [],
      "source": [
        "shap.plots.scatter(shap_values_c[:,'account_length'])"
      ]
    },
    {
      "cell_type": "markdown",
      "metadata": {
        "id": "L5R4wK_T35ya"
      },
      "source": [
        "This shows which characteristic is more important in the classification.\n",
        "Customers who have more complaints are more likely to call customer service and can churn at any time.\n",
        "Another factor is total day in minutes, followed by number of voicemail messages. Towards the end, the seven most minor significant features are grouped.\n",
        "\n",
        "The maximum absolute SHAP value for each feature is shown below; however, the two graphs are similar.\n",
        "A beeswarm graphic displays the SHAP value and its influence on model output.\n",
        "The heatmap display of SHAP values for hundreds of records illustrates the SHAP value density versus model features.\n",
        "The best feature has a high SHAP value, while the feature importance and SHAP value decline with time. "
      ]
    },
    {
      "cell_type": "code",
      "execution_count": null,
      "metadata": {
        "colab": {
          "base_uri": "https://localhost:8080/",
          "height": 433
        },
        "id": "HuV_l28DEwc3",
        "outputId": "b0998e8d-4bca-4acf-959d-2a918a31fecb"
      },
      "outputs": [],
      "source": [
        "# make a standard partial dependence plot\n",
        "sample_ind = 25\n",
        "fig,ax = shap.partial_dependence_plot(\n",
        "\"number_vmail_messages\", m_churn_proba, X, model_expected_value=True,\n",
        "feature_expected_value=True, show=False, ice=False\n",
        ")\n",
        "shap_values_c.feature_names\n",
        "# compute the SHAP values for the linear model\n",
        "explainer_log_odds = shap.Explainer(l_model, background_c,\n",
        "feature_n=list(X.columns))\n",
        "shap_values_churn_l = explainer_log_odds(X)\n",
        "shap_values_churn_l\n",
        "shap.plots.bar(shap_values_churn_l)"
      ]
    },
    {
      "cell_type": "markdown",
      "metadata": {
        "id": "M3bOwnoJ9AKC"
      },
      "source": [
        "\n",
        "The plot below illustrates how a SHAP bar plot will use the mean absolute value of each feature(by default) across all dataset occurrences (rows)."
      ]
    },
    {
      "cell_type": "code",
      "execution_count": null,
      "metadata": {
        "colab": {
          "base_uri": "https://localhost:8080/",
          "height": 418
        },
        "id": "OWbFMtet8jiQ",
        "outputId": "52c3e1cd-d848-4dec-bad2-2161a15590df"
      },
      "outputs": [],
      "source": [
        "shap.plots.bar(shap_values_churn_l)"
      ]
    },
    {
      "cell_type": "markdown",
      "metadata": {
        "id": "VsvMb8CA6h9w"
      },
      "source": [
        "The below plot illustrates how utilizing the maximum absolute value highlights the number_customer_service_calls and total_intl_calls feature, which have infrequent but large magnitude impacts. "
      ]
    },
    {
      "cell_type": "code",
      "execution_count": null,
      "metadata": {
        "colab": {
          "base_uri": "https://localhost:8080/",
          "height": 418
        },
        "id": "oD6zHlF_G8XV",
        "outputId": "aedac7ed-4c7a-495a-81cb-cd6482acd7ee"
      },
      "outputs": [],
      "source": [
        "shap.plots.bar(shap_values_churn_l.abs.max(0))"
      ]
    },
    {
      "cell_type": "markdown",
      "metadata": {
        "id": "z5RG2_PbBYaG"
      },
      "source": [
        "Beow, we can see the beeswarm plot that can be used to summarize the whole distribution of SHAP values for each feature.\n",
        "The dot's location on the x-axis indicates whether that attribute contributed positively or negatively to the prediction.\n",
        "This allows you to quickly determine if the feature is essentially flat for each forecast or significantly influences specific rows while having little impact on others."
      ]
    },
    {
      "cell_type": "code",
      "execution_count": null,
      "metadata": {
        "colab": {
          "base_uri": "https://localhost:8080/",
          "height": 368
        },
        "id": "5Vf5ELo6HRPf",
        "outputId": "40d2689f-bcf3-4270-d6ba-ea4f755a95e9"
      },
      "outputs": [],
      "source": [
        "shap.plots.beeswarm(shap_values_churn_l)"
      ]
    },
    {
      "cell_type": "markdown",
      "metadata": {
        "id": "VTOf-f1DChg-"
      },
      "source": [
        "The below plot represents the frequency with which each feature gave SHAP values for instances utilized in the training procedure. "
      ]
    },
    {
      "cell_type": "code",
      "execution_count": null,
      "metadata": {
        "colab": {
          "base_uri": "https://localhost:8080/",
          "height": 410
        },
        "id": "QNvs3WaZHhfw",
        "outputId": "afaeea5e-924d-42b2-fd0d-ecfc80a47246"
      },
      "outputs": [],
      "source": [
        "shap.plots.heatmap(shap_values_churn_l[:1000])"
      ]
    },
    {
      "cell_type": "markdown",
      "metadata": {
        "id": "KcodBi0e0RnR"
      },
      "source": [
        "## LIME\n",
        "The SHAP values may be used to explain the logistic regression model.\n",
        "But the difficulty is time.\n",
        "With a million records, you need more time to construct all permutations and combinations to explain the local accuracy.\n",
        "LIME's explanation generation speed avoids this issue in huge dataset processing.\n",
        "\n",
        "Explanations are the result of the LIME framework. LIME includes three primary functionalities:\n",
        "\n",
        "    - The image explainer interprets image classification models.\n",
        "    - The text explainer gives insight into text-based models.\n",
        "    - The tabular explainer determines how much a tabular dataset's features are evaluated throughout the classification process.\n",
        "\n",
        "\n",
        "Lime Tabular Explainer is required to explain tabular matrix data. The term \"local\" refers to the framework's analysis of individual data. It does not provide a comprehensive explanation for why the model performs, but instead describes how a given observation is classified. The user should be able to grasp what a model performs if it is interpretable. Thus, while dealing with image classification, it reveals which parts of the image it evaluated when making predictions, and when working with tabular data, it shows which features influence its choice. Model-agnostic means that it may be used to any blackbox algorithm that exists now or developed in the future.\n",
        "\n",
        "To generate a LIME output, we define the explanation as explainer.explain _instance and include the observation we picked above, the model.predict_proba, and 16 features, which show us which features are thought to be the most significant in predicting the target variable. \n",
        "\n",
        "The explaiser:\n",
        "\n",
        "The explainer itself is part of the LIME library and is presented in the preceding program. Because the explainer had no default settings, we had to specify all of the parameters manually. We first call our now-formatted dataset, followed by a list of all features in our dataset.\n",
        "\n",
        "    - X_train = Training set\n",
        "    - feature_names = Concatenated list of all feature names\n",
        "    - class_names = Target values\n",
        "    - Kernel width = Parameter to control the linearity of the induced model; the larger the width more linear is the model\n",
        "\n",
        "\n",
        "\n"
      ]
    },
    {
      "cell_type": "code",
      "execution_count": null,
      "metadata": {
        "colab": {
          "base_uri": "https://localhost:8080/"
        },
        "id": "7mVZ1LRA0xCq",
        "outputId": "dfbff86a-4b5f-459c-9ab4-3f8feda085db"
      },
      "outputs": [],
      "source": [
        "explainer = lime.lime_tabular.LimeTabularExplainer(np.array(xtrain),\n",
        "feature_names=list(xtrain.columns),\n",
        "class_names=['churn_dum'],\n",
        "verbose=True, mode='classification')\n",
        "# this record is a no churn scenario\n",
        "expl = explainer.explain_instance(xtest.iloc[0], l_model.predict_proba,\n",
        "num_features=16)\n",
        "expl.as_list()"
      ]
    },
    {
      "cell_type": "markdown",
      "metadata": {
        "id": "JUxyzc1pTUE2"
      },
      "source": [
        "Once the explainer model object is created, you may construct explanations by checking for individual and global predictions.\n",
        "In classification with two or more classes, you can produce different feature importances for each class in relation to the features column.\n",
        "\n",
        " For example, total_intl_minutes had a value lower than 8.50 lowered the score of\n",
        "the model by about 0.04."
      ]
    },
    {
      "cell_type": "code",
      "execution_count": null,
      "metadata": {
        "colab": {
          "base_uri": "https://localhost:8080/",
          "height": 551
        },
        "id": "Om0fOqN5SKB_",
        "outputId": "2457f484-d622-4549-ded6-fc1dae06dbc1"
      },
      "outputs": [],
      "source": [
        "pd.DataFrame(expl.as_list())"
      ]
    },
    {
      "cell_type": "markdown",
      "metadata": {
        "id": "T-VOzVdYDOlc"
      },
      "source": [
        "Intercept 0.11796923846596004\n",
        "Prediction_local [0.10779621]\n",
        "Right: 0.1242113883724509"
      ]
    },
    {
      "cell_type": "markdown",
      "metadata": {
        "id": "DWxRgwywY2QE"
      },
      "source": [
        "Running the code produces the LIME output divided into three sections: prediction probabilities on the left, feature probabilities in the middle, and a feature-value table on the right. A graph of prediction probabilities indicates what the model thinks will happen and the related likelihood. There is an 91% chance that the customer will not churn, which is represented by the blue bar, and a 9% chance that he will churn, which is represented by the orange bar.\n",
        "\n",
        "The feature probability graph illustrates how much a feature impacts a specific choice. The variable number_customer_service_calls is the most influential component in this observation, and it confirms the forecast that the customer will not churn. The second most essential attribute is total_day_minutes. The last graph is the feature value table which displays the actual value of this feature in this observation. \n"
      ]
    },
    {
      "cell_type": "code",
      "execution_count": null,
      "metadata": {
        "colab": {
          "base_uri": "https://localhost:8080/",
          "height": 505
        },
        "id": "Rnwfev9ZUnJD",
        "outputId": "3a309a48-78c0-454c-8ac5-cb1cf786fbab"
      },
      "outputs": [],
      "source": [
        "expl.show_in_notebook(show_table=True)"
      ]
    },
    {
      "cell_type": "code",
      "execution_count": null,
      "metadata": {
        "id": "9aOLdhTm7fnv"
      },
      "outputs": [],
      "source": []
    },
    {
      "cell_type": "markdown",
      "metadata": {
        "id": "EYh8fhjZsPGO"
      },
      "source": [
        "Although LIME is simple and effective, it is not without flaws. It will be published in 2020 that the first theoretical examination of LIME confirms the importance and relevance of LIME, but it also shows that poor parameter selections might cause LIME to overlook important features. As a result, different interpretations of the same prediction may lead to deployment issues. DLIME, a deterministic variant of LIME, is suggested to overcome this uncertainty. Hierarchical clustering is used to group the data, and k-nearest neighbors (KNN) pick the cluster where the instance in question is thought to reside. "
      ]
    },
    {
      "cell_type": "markdown",
      "metadata": {
        "id": "7Xrwm1Alrhnt"
      },
      "source": [
        "## Using SHAP for Ensemble Models\n",
        "we will use the popular Boston housing prices dataset to explain the model predictions in a regression use case scenario.\n",
        "The following are the\n",
        "variables from the Boston housing prices dataset:\n",
        "\n",
        "CRIM: Per capita crime rate by town\n",
        "\n",
        "• ZN: Proportion of residential land zoned for lots over 25,000 sq.ft.\n",
        "\n",
        "• INDUS: Proportion of non-retail business acres per town\n",
        "\n",
        "• CHAS: Charles River dummy variable (1 if tract bounds river; 0\n",
        "otherwise)\n",
        "\n",
        "• NOX: Nitric oxide concentration (parts per 10 million)\n",
        "\n",
        "• RM: Average number of rooms per dwelling\n",
        "\n",
        "• AGE: Proportion of owner-occupied units built prior to 1940\n",
        "\n",
        "• DIS: Weighted distances to five Boston employment centers\n",
        "\n",
        "• RAD: Index of accessibility to radial highways\n",
        "\n",
        "• TAX: Full value property tax rate per $10,000\n",
        "\n",
        "• PTRATIO: Pupil-teacher ratio by town\n",
        "\n",
        "• B: 1000(Bk - 0.63)^2 where Bk is the proportion of blacks by town\n",
        "\n",
        "• LSTAT: % lower status of the population\n",
        "\n",
        "• MEDV: Median value of owner-occupied homes in $1000s"
      ]
    },
    {
      "cell_type": "code",
      "execution_count": null,
      "metadata": {
        "colab": {
          "base_uri": "https://localhost:8080/"
        },
        "id": "s4oGfJT27hpe",
        "outputId": "5459e0b1-e089-4e60-8225-8e7dc191e4a6"
      },
      "outputs": [],
      "source": [
        "# boston Housing price \n",
        "X,y = shap.datasets.boston()\n",
        "X1000 = shap.utils.sample(X, 1000) # 1000 instances for use as the background distribution\n",
        "# a simple linear model\n",
        "m_del = sklearn.linear_model.LinearRegression()\n",
        "m_del.fit(X, y)"
      ]
    },
    {
      "cell_type": "markdown",
      "metadata": {
        "id": "aTONNsDjdLdZ"
      },
      "source": [
        "The Boston housing prices dataset is now part of the SHAP library. The base model calculation happens using the linear regression model so that you can perform the ensemble model on this dataset and compare the results."
      ]
    },
    {
      "cell_type": "code",
      "execution_count": null,
      "metadata": {
        "colab": {
          "base_uri": "https://localhost:8080/"
        },
        "id": "ETbx72pqd_n_",
        "outputId": "1804fe7b-1c73-4c17-eb5a-f061c5076bf8"
      },
      "outputs": [],
      "source": [
        "print(\"coefficients of the model:\\n\")\n",
        "for i in range(X.shape[1]):\n",
        "    print(X.columns[i], \"=\", m_del.coef_[i].round(4))"
      ]
    },
    {
      "cell_type": "markdown",
      "metadata": {
        "id": "x-E0TNhde0zw"
      },
      "source": [
        "The starting point is a model's coefficients.\n",
        "You'll then compare the coefficients in the complex ensemble models to those in the base linear model. Compare the explanations as well.\n",
        "Improved explainability is directly proportional to increased accuracy in prediction. "
      ]
    },
    {
      "cell_type": "code",
      "execution_count": null,
      "metadata": {
        "colab": {
          "base_uri": "https://localhost:8080/",
          "height": 296
        },
        "id": "ExAyVmhHfv1T",
        "outputId": "a1c1639e-7928-433e-c1a1-c6a7d88ca464"
      },
      "outputs": [],
      "source": [
        "shap.plots.partial_dependence(\n",
        "\"RM\", m_del.predict, X1000, ice=False,\n",
        "model_expected_value=True, feature_expected_value=True\n",
        ")"
      ]
    },
    {
      "cell_type": "markdown",
      "metadata": {
        "id": "OIr126IFgSC6"
      },
      "source": [
        "You may see the predicted median value of the housing price by looking at the horizontal dotted line E[f(x)]. \n",
        "There is a linear relationship between the RM feature and the model's predicted outcome. "
      ]
    },
    {
      "cell_type": "code",
      "execution_count": null,
      "metadata": {
        "colab": {
          "base_uri": "https://localhost:8080/",
          "height": 314
        },
        "id": "p6mK7L33jROj",
        "outputId": "d8f7819f-29e1-48af-a5e9-067853e1a99d"
      },
      "outputs": [],
      "source": [
        "# SHAP values computation for the linear model\n",
        "explainer1 = shap.Explainer(m_del.predict, X1000)\n",
        "shap_values = explainer1(X)\n",
        "# make a standard partial dependence plot\n",
        "sample_ind = 18\n",
        "shap.partial_dependence_plot(\n",
        "\"RM\", m_del.predict, X1000, model_expected_value=True,\n",
        "feature_expected_value=True, ice=False,\n",
        "shap_values=shap_values[sample_ind:sample_ind+1,:]\n",
        ")"
      ]
    },
    {
      "cell_type": "markdown",
      "metadata": {
        "id": "k3BeIMeGkEb6"
      },
      "source": [
        "From the above plot we can see that row number 18 from the dataset is superimposed on the PDP plot.\n",
        "RM's marginal contribution to the predicted value of the target column is illustrated by an upward-rising straight line in the picture above.\n",
        "The discrepancy between the expected value and the average predicted value is shown by the red line in the graph. "
      ]
    },
    {
      "cell_type": "code",
      "execution_count": null,
      "metadata": {
        "colab": {
          "base_uri": "https://localhost:8080/"
        },
        "id": "Xd5ck7zN-82Y",
        "outputId": "c84ba7f4-da93-4378-a22e-89ce95a0a0eb"
      },
      "outputs": [],
      "source": [
        "X1000 = shap.utils.sample(X,100)\n",
        "m_del.predict(X1000).mean() ## mean\n",
        "m_del.predict(X1000).min() ## minimum\n",
        "m_del.predict(X1000).max() ## maximum\n",
        "shap_values[18:19,:] ## shap values\n",
        "X[18:19]\n",
        "m_del.predict(X[18:19])\n",
        "shap_values[18:19,:].values.sum() + shap_values[18:19,:].base_values"
      ]
    },
    {
      "cell_type": "markdown",
      "metadata": {
        "id": "7JFpAm-b_Ykd"
      },
      "source": [
        "The predicted outcome for record number 18 is 16.178, and the total of the SHAP values from various features, as well as the base value, is equal to the predicted value. \n",
        " From the below plot, SHAP values are generated using a linear model, which explains why the relationship is linear.\n",
        "You can expect the line to be non-linear if you switch to a non-linear model. "
      ]
    },
    {
      "cell_type": "code",
      "execution_count": null,
      "metadata": {
        "colab": {
          "base_uri": "https://localhost:8080/",
          "height": 337
        },
        "id": "benhohCIDD5o",
        "outputId": "7497dc1f-a01d-4740-a0f6-1711eb6f9d9d"
      },
      "outputs": [],
      "source": [
        "shap.plots.scatter(shap_values[:,\"RM\"])"
      ]
    },
    {
      "cell_type": "markdown",
      "metadata": {
        "id": "X7YWyjVoFjXp"
      },
      "source": [
        "the plot below display the relationship between predicted result and SHAP values"
      ]
    },
    {
      "cell_type": "code",
      "execution_count": null,
      "metadata": {
        "colab": {
          "base_uri": "https://localhost:8080/",
          "height": 525
        },
        "id": "OLe-SbVoEicl",
        "outputId": "4cc8bd62-7087-47f8-d9a5-6e881571b85a"
      },
      "outputs": [],
      "source": [
        "# the waterfall_plot \n",
        "m_del.predict(X)[sample_ind]\n",
        "shap.plots.waterfall(shap_values[sample_ind], max_display=13)"
      ]
    },
    {
      "cell_type": "markdown",
      "metadata": {
        "id": "lY5r_pKmImD2"
      },
      "source": [
        "The horizontal axis in the figure above displays the predicted result average value, which is 22.841, while the vertical axis shows the SHAP values from different features.\n",
        "The dataset's presumed values for each feature are represented in grey, while the negative SHAP values are shown in blue and the positive SHAP values are shown in red. The vertical axis also shows the predicted result for the 18th record, which is 16.178. "
      ]
    },
    {
      "cell_type": "markdown",
      "metadata": {
        "id": "EaD3dEmxO_vm"
      },
      "source": [
        "## Using the Interpret Explaining Boosting Model\n",
        "\n",
        "In this section, you will utilize generalized additive models (GAM) to forecast home prices.\n",
        "The model fitted using the SHAP library may be explained.\n",
        "The interpret Python package may be used to train the generalized additive model, and the trained model object can then be sent through the SHAP model to provide explanations for the boosting models. \n",
        "The interpret library can be installed three ways:\n",
        "\n",
        "!pip install interpret-core\n",
        "Using the pip install method, this is done without any dependencies.\n",
        "\n",
        "conda install -c interpretml interpret-core\n",
        "This is a distribution based on anaconda. You may install using the conda environment's terminal. \n",
        "\n",
        "git clone https://github.com/interpretml/interpret.git && cd interpret/scripts && make install-core\n",
        "GitHub is used to get this directly from the source.\n",
        "\n",
        "Glassbox models: The scikit-learn framework is used to build Glassbox models that are more interpretable while keeping the same degree of accuracy as the current sklearn library. Linear models, decision trees, decision rules, and boosting-based models are all supported.\n",
        "\n",
        "Blackbox explainers: An approximate explanation of the model's behavior and predictions is provided by blackbox explainers.\n",
        "These approaches may be used when none of the machine learning model's components can be interpreted.\n",
        "Shapely explanations, LIME explanations, partial dependency plots, and Morris sensitivity analysis may all be supported by these methods.\n"
      ]
    },
    {
      "cell_type": "markdown",
      "metadata": {
        "id": "H-zeKbXNXSMC"
      },
      "source": [
        "To begin, import the glassbox module from interpret, then set up the explainable boosting regressor and fit the model.\n",
        "model ebm is the model object. "
      ]
    },
    {
      "cell_type": "code",
      "execution_count": null,
      "metadata": {
        "colab": {
          "base_uri": "https://localhost:8080/"
        },
        "id": "JHrkRQEFWO3k",
        "outputId": "15e8acc0-3e6b-439e-eaf4-417a2b088ec3"
      },
      "outputs": [],
      "source": [
        "# fit a GAM model to the data\n",
        "m_ebm = interpret.glassbox.ExplainableBoostingRegressor()\n",
        "m_ebm.fit(X, y)"
      ]
    },
    {
      "cell_type": "markdown",
      "metadata": {
        "id": "CbgX2v_AbNon"
      },
      "source": [
        "You will sample the training dataset to provide a backdrop for creating explanations using the SHAP package.\n",
        "In the SHAP explainer, you utilize m_ebm.predict and some samples to construct explanations. "
      ]
    },
    {
      "cell_type": "code",
      "execution_count": null,
      "metadata": {
        "colab": {
          "base_uri": "https://localhost:8080/"
        },
        "id": "hSSPfhb-aEZn",
        "outputId": "87b9b8e4-d0f5-42f5-96ad-7cb3edac80c1"
      },
      "outputs": [],
      "source": [
        "# GAM model with SHAP explanation\n",
        "expl_ebm = shap.Explainer(m_ebm.predict, X1000)\n",
        "shap_v_ebm = expl_ebm(X)"
      ]
    },
    {
      "cell_type": "code",
      "execution_count": null,
      "metadata": {
        "colab": {
          "base_uri": "https://localhost:8080/",
          "height": 296
        },
        "id": "N01H5W4od4OG",
        "outputId": "d54b95a7-316c-4275-8455-c052bf3e35e6"
      },
      "outputs": [],
      "source": [
        "# PDP with a single SHAP value \n",
        "fig,ax = shap.partial_dependence_plot(\n",
        "\"RM\", m_ebm.predict, X, feature_expected_value=True, model_expected_value=True, show=False,ice= False,\n",
        "shap_values=shap_v_ebm[sample_ind:sample_ind+1,:]\n",
        ")"
      ]
    },
    {
      "cell_type": "markdown",
      "metadata": {
        "id": "QVEr5Nmfew2G"
      },
      "source": [
        "The boosting-based model is shown above .\n",
        "There is a non-linear relationship between the RM values and the forecasted target column, which is the average value of housing prices. As the red straight line indicates, we're explaining the same 18th record once again. "
      ]
    },
    {
      "cell_type": "code",
      "execution_count": null,
      "metadata": {
        "colab": {
          "base_uri": "https://localhost:8080/",
          "height": 337
        },
        "id": "80XgyJzqi7_g",
        "outputId": "bf42e04e-9623-4f9d-d25d-60a50066192a"
      },
      "outputs": [],
      "source": [
        "shap.plots.scatter(shap_v_ebm[:,\"RM\"])"
      ]
    },
    {
      "cell_type": "markdown",
      "metadata": {
        "id": "ROXO8Dv0jK7e"
      },
      "source": [
        "The relationship shown in the graph above is non-linear.\n",
        "At the start, the predicted value does not grow significantly as the RM increases, but beyond a particular stage, the SHAP value for RM climbs exponentially as the RM value increases. "
      ]
    },
    {
      "cell_type": "markdown",
      "metadata": {
        "id": "P190M7KrnjA3"
      },
      "source": [
        "Here's another representation of the relationship between the SHAP and feature values, as seen in the figure below. "
      ]
    },
    {
      "cell_type": "code",
      "execution_count": null,
      "metadata": {
        "colab": {
          "base_uri": "https://localhost:8080/",
          "height": 433
        },
        "id": "kgwqF54FmnhG",
        "outputId": "a02b17c4-883d-4fa6-8d18-ad17153add34"
      },
      "outputs": [],
      "source": [
        "# In order to get at explainer.expected_value, we use the waterfall_plot. \n",
        "m_ebm.predict(X)[sample_ind]\n",
        "shap.plots.beeswarm(shap_v_ebm, max_display=14)"
      ]
    },
    {
      "cell_type": "markdown",
      "metadata": {
        "id": "aPvt1923qBD3"
      },
      "source": [
        "Non-linearity is seen in the below figure, where the extreme gradient boosting regression model is applied to explain ensemble models. "
      ]
    },
    {
      "cell_type": "code",
      "execution_count": null,
      "metadata": {
        "colab": {
          "base_uri": "https://localhost:8080/",
          "height": 314
        },
        "id": "M-NZZvYCoMF5",
        "outputId": "02bb11af-3c01-45b0-cacb-f08613cf4f3c"
      },
      "outputs": [],
      "source": [
        "#  XGBoost model training\n",
        "m_xgb = xgboost.XGBRegressor(n_estimators=100, max_depth=2).fit(X, y)\n",
        "# the GAM model explanation with SHAP\n",
        "expl_xgb = shap.Explainer(m_xgb, X1000)\n",
        "shap_v_xgb = expl_xgb(X)\n",
        "## PDP\n",
        "fig,ax = shap.partial_dependence_plot(\n",
        "\"RM\", m_ebm.predict, X, feature_expected_value=True, model_expected_value=True, show=False,ice= False,\n",
        "shap_values=shap_v_ebm[sample_ind:sample_ind+1,:]\n",
        ")"
      ]
    },
    {
      "cell_type": "markdown",
      "metadata": {
        "id": "1Eu43N1-rP3G"
      },
      "source": [
        "A non-linear relationship between RM and the SHAP value of RM is seen in the figure below. "
      ]
    },
    {
      "cell_type": "code",
      "execution_count": null,
      "metadata": {
        "colab": {
          "base_uri": "https://localhost:8080/",
          "height": 337
        },
        "id": "MAztRoVAqohA",
        "outputId": "ac49dba0-3e5d-4a3b-b47e-632c0243757f"
      },
      "outputs": [],
      "source": [
        "shap.plots.scatter(shap_v_xgb[:,\"RM\"])"
      ]
    },
    {
      "cell_type": "markdown",
      "metadata": {
        "id": "GDFo7-18t5u_"
      },
      "source": [
        "The graph below depicts the same non-linear relationship with an extra overlay of the RAD feature, demonstrating that the higher the RM value, the higher the RAD component, and vice versa. "
      ]
    },
    {
      "cell_type": "code",
      "execution_count": null,
      "metadata": {
        "colab": {
          "base_uri": "https://localhost:8080/",
          "height": 337
        },
        "id": "s6mJwUP3rfWN",
        "outputId": "ecd3d9b3-b558-424e-8501-f5fc0a7237ce"
      },
      "outputs": [],
      "source": [
        "shap.plots.scatter(shap_v_xgb[:,\"RM\"], color=shap_values)"
      ]
    }
  ],
  "metadata": {
    "colab": {
      "collapsed_sections": [],
      "name": "explainableai_PythonCodeTutorial.ipynb",
      "provenance": []
    },
    "kernelspec": {
      "display_name": "Python 3.9.12 64-bit",
      "language": "python",
      "name": "python3"
    },
    "language_info": {
      "name": "python",
      "version": "3.9.12"
    },
    "vscode": {
      "interpreter": {
        "hash": "f89a88aed07bbcd763ac68893150ace71e487877d8c6527a76855322f20001c6"
      }
    }
  },
  "nbformat": 4,
  "nbformat_minor": 0
}
